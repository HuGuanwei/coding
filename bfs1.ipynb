{
 "cells": [
  {
   "cell_type": "markdown",
   "metadata": {},
   "source": [
    "    Breadth First Search (BFS1)\n",
    "    \n",
    "    - 我出队，我的没访问过的邻居入队\n",
    "    - 按层序处理问题或结果与同层节点关系有关，考虑宽度优先搜索\n",
    "\n",
    "    例题：\n",
    "    \n",
    "    1. 层序打印二叉树 level order traverse of a binary tree\n",
    "    2. 二分图 bipartite\n",
    "    3. 是否完全二叉树 complete binanry tree"
   ]
  },
  {
   "cell_type": "markdown",
   "metadata": {},
   "source": [
    "    1. 层序打印二叉树 \n",
    "---\n",
    "```python\n",
    "def level_order(root):\n",
    "    res = []\n",
    "    if not root:\n",
    "        return res\n",
    "    \n",
    "    q = [root]\n",
    "    while q:\n",
    "        size = len(q)\n",
    "        level_res = []\n",
    "        \n",
    "        for i in range(size):\n",
    "            node = q.pop(0)\n",
    "            level_res.append(node.value)\n",
    "            if node.left:\n",
    "                q.append(node.left)\n",
    "            if node.right:\n",
    "                q.append(node.right)    \n",
    "        \n",
    "        res.append(level_res)\n",
    "        \n",
    "    return res\n",
    "```\n"
   ]
  },
  {
   "cell_type": "markdown",
   "metadata": {},
   "source": [
    "    2. 检查是否为二分图\n",
    "---\n",
    "```python\n",
    "'''\n",
    "Definition for a undirected graph node\n",
    "class GraphNode:\n",
    "    def __init__(self, x):\n",
    "        self.key = x\n",
    "        self.neighbors = []\n",
    "'''\n",
    "from collections import deque\n",
    "\n",
    "class Solution(object):\n",
    "    def bfs(self, root):\n",
    "        q = deque([root])\n",
    "        color = {root: 1}\n",
    "        while q:\n",
    "            node = q.popleft()\n",
    "            for neighbor in node.neighbors:\n",
    "                if neighbor not in color.keys():        # 没有染过色，也就是没有访问过\n",
    "                    color[neighbor] = -color[node]      # 将邻居染上与 node 相反的颜色\n",
    "                    q.append(neighbor)                  # 入队\n",
    "                elif color[neighbor] == color[node]:    # 染过色且与 node 颜色相同，直接返回 False\n",
    "                    return False\n",
    "                else:                                   # 染过色且与 node 颜色相同，什么也不做\n",
    "                    pass\n",
    "        return True\n",
    "            \n",
    "    \n",
    "    def bipartite(self, graph):\n",
    "        \"\"\"\n",
    "        input : GraphNode graph 假定单连通\n",
    "        return : boolean\n",
    "        \"\"\"\n",
    "        # write your solution here\n",
    "        return self.bfs(graph[0])\n",
    "```"
   ]
  },
  {
   "cell_type": "markdown",
   "metadata": {},
   "source": [
    "    3. 检查是否是完全二叉树\n",
    "---\n",
    "```python\n",
    "from collections import deque\n",
    "\n",
    "class Solution(object):\n",
    "    def isCompleted(self, root):\n",
    "        \"\"\"\n",
    "        input: TreeNode root\n",
    "        return: boolean\n",
    "        \"\"\"\n",
    "        # write your solution here\n",
    "        if not root:\n",
    "            return True\n",
    "        q = deque([root])\n",
    "        danger = False # 是否首次遇到缺右孩子的节点\n",
    "        while q:\n",
    "            node = q.popleft()\n",
    "            if not danger:\n",
    "                if not node.left and node.right:\n",
    "                    return False\n",
    "                if node.left and not node.right:\n",
    "                    q.append(node.left)\n",
    "                    danger = True\n",
    "                if not node.left and not node.right:\n",
    "                    danger = True\n",
    "                if node.left and node.right:\n",
    "                    q.append(node.left)\n",
    "                    q.append(node.right)    \n",
    "            else:\n",
    "                # 如果右孩子缺失，往后不能再缺左右孩子中任何一个，否则不为完全二叉树\n",
    "                if node.left or node.right:\n",
    "                    return False\n",
    "        return True\n",
    "\n",
    "```"
   ]
  },
  {
   "cell_type": "code",
   "execution_count": 1,
   "metadata": {},
   "outputs": [],
   "source": [
    "from binarytree import tree, Node\n",
    "root = tree()"
   ]
  },
  {
   "cell_type": "code",
   "execution_count": 2,
   "metadata": {},
   "outputs": [],
   "source": [
    "def level_order(root):\n",
    "    if not root:\n",
    "        return\n",
    "     \n",
    "    q = [root]\n",
    "    while q:\n",
    "        node = q.pop(0)\n",
    "        print(node.value)\n",
    "        if node.left:\n",
    "            q.append(node.left)\n",
    "        if node.right:\n",
    "            q.append(node.right)\n",
    "    return   "
   ]
  },
  {
   "cell_type": "code",
   "execution_count": 3,
   "metadata": {},
   "outputs": [
    {
     "name": "stdout",
     "output_type": "stream",
     "text": [
      "\n",
      "         ________13\n",
      "        /          \\\n",
      "     __0___         1\n",
      "    /      \\\n",
      "  _3       _12\n",
      " /  \\     /   \\\n",
      "14   8   10    7\n",
      "\n",
      "13\n",
      "0\n",
      "1\n",
      "3\n",
      "12\n",
      "14\n",
      "8\n",
      "10\n",
      "7\n"
     ]
    }
   ],
   "source": [
    "print(root)\n",
    "level_order(root)"
   ]
  },
  {
   "cell_type": "code",
   "execution_count": 4,
   "metadata": {},
   "outputs": [],
   "source": [
    "def level_order(root):\n",
    "    res = []\n",
    "    if not root:\n",
    "        return res\n",
    "    \n",
    "    q = [root]\n",
    "    while q:\n",
    "        size = len(q)\n",
    "        level_res = []\n",
    "        \n",
    "        for i in range(size):\n",
    "            node = q.pop(0)\n",
    "            level_res.append(node.value)\n",
    "            if node.left:\n",
    "                q.append(node.left)\n",
    "            if node.right:\n",
    "                q.append(node.right)    \n",
    "        \n",
    "        res.append(level_res)\n",
    "        \n",
    "    return res"
   ]
  },
  {
   "cell_type": "code",
   "execution_count": 5,
   "metadata": {},
   "outputs": [
    {
     "name": "stdout",
     "output_type": "stream",
     "text": [
      "\n",
      "         ________13\n",
      "        /          \\\n",
      "     __0___         1\n",
      "    /      \\\n",
      "  _3       _12\n",
      " /  \\     /   \\\n",
      "14   8   10    7\n",
      "\n"
     ]
    },
    {
     "data": {
      "text/plain": [
       "[[13], [0, 1], [3, 12], [14, 8, 10, 7]]"
      ]
     },
     "execution_count": 5,
     "metadata": {},
     "output_type": "execute_result"
    }
   ],
   "source": [
    "print(root)\n",
    "level_order(root)"
   ]
  },
  {
   "cell_type": "code",
   "execution_count": 6,
   "metadata": {},
   "outputs": [],
   "source": [
    "def serialize(root):\n",
    "    if not root:\n",
    "        return ''\n",
    "    \n",
    "    q = [root]\n",
    "    i = 0\n",
    "    while i < len(q):\n",
    "        node = q[i]\n",
    "        i += 1\n",
    "        if not node:\n",
    "            continue\n",
    "        q.append(node.left)\n",
    "        q.append(node.right)\n",
    "        \n",
    "    while q[len(q) - 1] == None:\n",
    "        q.pop(len(q) - 1)\n",
    "        \n",
    "    return ','.join(list(map(lambda x: str(x.value) if x else '#', q)))"
   ]
  },
  {
   "cell_type": "code",
   "execution_count": 7,
   "metadata": {},
   "outputs": [
    {
     "data": {
      "text/plain": [
       "'13,0,1,3,12,#,#,14,8,10,7'"
      ]
     },
     "execution_count": 7,
     "metadata": {},
     "output_type": "execute_result"
    }
   ],
   "source": [
    "serialize(root)"
   ]
  },
  {
   "cell_type": "code",
   "execution_count": 8,
   "metadata": {},
   "outputs": [],
   "source": [
    "def deserizlize(string):\n",
    "    if not string:\n",
    "        return\n",
    "    \n",
    "    arr = string.split(',')\n",
    "    q = [Node(int(arr[0]))]\n",
    "    index = 0\n",
    "    is_left = True\n",
    "\n",
    "    for i in range(1, len(arr)):\n",
    "        if arr[i] != '#':\n",
    "            node = Node(int(arr[i]))\n",
    "            if is_left:\n",
    "                q[index].left = node\n",
    "            else:\n",
    "                q[index].right = node\n",
    "            q.append(node)\n",
    "        \n",
    "        if not is_left:\n",
    "            index += 1\n",
    "        is_left = not is_left\n",
    "        \n",
    "    return q[0]\n",
    "        "
   ]
  },
  {
   "cell_type": "code",
   "execution_count": 9,
   "metadata": {},
   "outputs": [
    {
     "name": "stdout",
     "output_type": "stream",
     "text": [
      "\n",
      "  ___4____\n",
      " /        \\\n",
      "9          14__\n",
      " \\        /    \\\n",
      "  11     1      6\n",
      "        /      /\n",
      "       7      0\n",
      "\n"
     ]
    }
   ],
   "source": [
    "root = deserizlize('4,9,14,#,11,1,6,#,#,7,#,0')\n",
    "print(root)"
   ]
  },
  {
   "cell_type": "code",
   "execution_count": 2,
   "metadata": {},
   "outputs": [],
   "source": [
    "from collections import deque"
   ]
  },
  {
   "cell_type": "code",
   "execution_count": 19,
   "metadata": {},
   "outputs": [],
   "source": [
    "q = deque(arr)"
   ]
  },
  {
   "cell_type": "code",
   "execution_count": 22,
   "metadata": {},
   "outputs": [
    {
     "name": "stdout",
     "output_type": "stream",
     "text": [
      "10.5 ms ± 226 µs per loop (mean ± std. dev. of 7 runs, 100 loops each)\n"
     ]
    }
   ],
   "source": [
    "%%timeit\n",
    "arr = [i for i in range(10000)]\n",
    "for i in range(10000): \n",
    "    arr.pop(0)"
   ]
  },
  {
   "cell_type": "code",
   "execution_count": 23,
   "metadata": {},
   "outputs": [
    {
     "name": "stdout",
     "output_type": "stream",
     "text": [
      "944 µs ± 14.8 µs per loop (mean ± std. dev. of 7 runs, 1000 loops each)\n"
     ]
    }
   ],
   "source": [
    "%%timeit\n",
    "q = deque([i for i in range(10000)])\n",
    "for i in range(10000): \n",
    "    q.popleft()"
   ]
  },
  {
   "cell_type": "code",
   "execution_count": null,
   "metadata": {},
   "outputs": [],
   "source": []
  }
 ],
 "metadata": {
  "kernelspec": {
   "display_name": "Python 3",
   "language": "python",
   "name": "python3"
  },
  "language_info": {
   "codemirror_mode": {
    "name": "ipython",
    "version": 3
   },
   "file_extension": ".py",
   "mimetype": "text/x-python",
   "name": "python",
   "nbconvert_exporter": "python",
   "pygments_lexer": "ipython3",
   "version": "3.7.1"
  }
 },
 "nbformat": 4,
 "nbformat_minor": 2
}
